{
 "metadata": {
  "kernelspec": {
   "display_name": "Python 3 (ipykernel)",
   "language": "python",
   "name": "python3"
  },
  "language_info": {
   "codemirror_mode": {
    "name": "ipython",
    "version": 3
   },
   "file_extension": ".py",
   "mimetype": "text/x-python",
   "name": "python",
   "nbconvert_exporter": "python",
   "pygments_lexer": "ipython3",
   "version": "3.11.13"
  },
  "colab": {
   "collapsed_sections": [
    "fZgyIlfqthU0"
   ],
   "private_outputs": true,
   "provenance": [],
   "toc_visible": true
  },
  "gpuClass": "standard",
  "widgets": {
   "application/vnd.jupyter.widget-state+json": {
    "state": {},
    "version_major": 2,
    "version_minor": 0
   }
  }
 },
 "nbformat_minor": 4,
 "nbformat": 4,
 "cells": [
  {
   "cell_type": "markdown",
   "source": [
    "# Jupyter Notebooks\n",
    "This webpage is called a Jupyter notebook.  It allows us to combine code, output and text in a single document.\n",
    "## Text cells\n",
    "In a notebook, each rectangle containing text or code is called a cell.\n",
    "\n",
    "Text cells (like this one) can be edited by double-clicking on them. They're written in a simple format called Markdown to add formatting and section headings.\n",
    "\n",
    "After you edit a text cell, click the \"▶ Run\" button in the menu bar at the top or hold down shift + return to confirm any changes and apply the formatting.\n",
    "\n",
    "__Edit the text cell below to add your name outside the double underscores.  Then run it to recover the formatting.__\n",
    "Your name should not be in bold."
   ],
   "metadata": {
    "editable": true,
    "id": "NEksZ-GkNjik",
    "slideshow": {
     "slide_type": ""
    },
    "tags": []
   }
  },
  {
   "cell_type": "markdown",
   "source": [
    "__Your Name:__"
   ],
   "metadata": {
    "collapsed": false
   }
  },
  {
   "cell_type": "markdown",
   "source": [
    "## Code cells\n",
    "Code cells contain Python 3 code. Running a code cell will execute all the Python statements it contains.\n",
    "\n",
    "To run the code in a code cell, first click on that cell to activate it. It'll be highlighted with a blue rectangle. Next, either click the \"▶ Run\" button in the menu bar at the top or hold down shift + return.\n",
    "\n",
    "Run the code cell below:"
   ],
   "metadata": {}
  },
  {
   "cell_type": "code",
   "source": [
    "print('Hello World!')\n",
    "print('\\N{WAVING HAND SIGN} \\N{EARTH GLOBE AMERICAS}!')"
   ],
   "metadata": {
    "scrolled": true,
    "trusted": true
   },
   "outputs": [],
   "execution_count": null
  },
  {
   "cell_type": "markdown",
   "source": [
    "Note that some code cells in your homework assignments build on code executed in previous cells. So you'll have to execute them in order. Otherwise, you will get errors such as NameError: name 'some variable name' is not defined. \n",
    "To add a cell, click the + button in the menu bar,  You can add text (Markdown) cells or code cells.  \n",
    "\n",
    "TO DO:  Add a new code cell below and type:\n",
    "\n",
    "import this\n",
    "\n",
    "__After adding the code cell, run it.__"
   ],
   "metadata": {
    "editable": true,
    "slideshow": {
     "slide_type": ""
    },
    "tags": []
   }
  },
  {
   "cell_type": "markdown",
   "source": [
    "## The Kernel\n",
    "The kernel is a program that executes the code inside your notebook and outputs the results. In the top right of your window, you can see a circle that indicates the status of your kernel. If the circle is empty (⚪), the kernel is idle and ready to execute code. If the circle is filled in (⚫), the kernel is busy running some code.\n",
    "\n",
    "Next to every code cell, you'll see some text that says In [...]. Before you run the cell, you'll see In [ ]. When the cell is running, you'll see In [ * ]. If you see an asterisk ( * ) next to a cell that doesn't go away, it's likely that the code inside the cell is taking too long to run, and it might be a good time to interrupt the kernel (discussed below). When a cell is finished running, you'll see a number inside the brackets, for example: In [1]. The number corresponds to the order in which you run the cells; so, the first cell you run will show a 1 when it's finished running, the second will show a 2, and so on.\n",
    "\n",
    "You may run into problems where your kernel is stuck for an excessive amount of time, your notebook is very slow and unresponsive, or your kernel loses its connection. If this happens, try the following steps:  \n",
    "At the top of your screen, click the \" ■  Stop\" button. \n",
    "If that doesn't help, click the \"↻  Restart\" button. If you do this, you will have to run your code cells from the start of your notebook up until where you paused your work.  \n",
    "Note that these options are also available through the top menu under \"Kernel'.\n"
   ],
   "metadata": {
    "editable": true,
    "slideshow": {
     "slide_type": ""
    },
    "tags": []
   }
  },
  {
   "cell_type": "markdown",
   "source": [
    "# Why Python?\n",
    "\n",
    "*   Python is a fun programming language created in the 90s.\n",
    "*   It is simple, concise yet powerful.\n",
    "*   Python code is easy to understand, even for someone who did not write it.\n",
    "*   Python is one of the most widely used programming languages in AI and machine learning.\n",
    "*   Python's built-in data structures allow programmers to implement the complex algorithms of AI simply in a few lines of code.\n",
    "*   Python comes with an extensive collection of libraries that can be used for AI and machine learning.\n",
    "*   We'll use Python for all programming assignments.\n",
    "\n",
    "Let's get started!"
   ],
   "metadata": {
    "editable": true,
    "id": "G3SA_MM1tfgj",
    "slideshow": {
     "slide_type": ""
    },
    "tags": []
   }
  },
  {
   "cell_type": "markdown",
   "source": [
    "# The Basics\n",
    "As you go through this tutorial, run all the code cells to verify that the output is what you expect it to be.\n",
    "\n",
    "You will also be asked to enter your own code."
   ],
   "metadata": {
    "id": "oY7RYc63m4Re"
   }
  },
  {
   "cell_type": "code",
   "source": [
    "2 * 1.5 / -3"
   ],
   "metadata": {
    "id": "0kPSiRedwJzb",
    "trusted": true
   },
   "outputs": [],
   "execution_count": null
  },
  {
   "cell_type": "markdown",
   "source": [
    "Python supports integers such as 2 and -3, floats such as 1.5 and complex numbers (we won't use complex numbers in this class.)\n",
    "\n",
    "Integers have an unlimited range in Python.\n",
    "\n",
    "** is the exponentiation (power) operator."
   ],
   "metadata": {
    "editable": true,
    "id": "IsEfqA1twgk9",
    "slideshow": {
     "slide_type": ""
    },
    "tags": []
   }
  },
  {
   "cell_type": "code",
   "source": [
    "10000000000000000000000000 ** 50"
   ],
   "metadata": {
    "id": "EOg5Gxc_xII2",
    "trusted": true
   },
   "outputs": [],
   "execution_count": null
  },
  {
   "cell_type": "markdown",
   "source": [
    "% is the remainder operator.  \n",
    "For example, 12 % 5 is 2 which is the remainder you get when you divide 12 by 5."
   ],
   "metadata": {}
  },
  {
   "cell_type": "code",
   "source": [
    "12 % 5"
   ],
   "metadata": {
    "trusted": true
   },
   "outputs": [],
   "execution_count": null
  },
  {
   "cell_type": "code",
   "source": [
    "To perform an integer division and get an integer result, discarding any fractional result, we use the floor division operator: //.  "
   ],
   "metadata": {
    "trusted": true
   },
   "outputs": [],
   "execution_count": null
  },
  {
   "cell_type": "code",
   "source": [
    "16 // 3"
   ],
   "metadata": {
    "trusted": true
   },
   "outputs": [],
   "execution_count": null
  },
  {
   "cell_type": "markdown",
   "source": [
    "We use == and != to compare values."
   ],
   "metadata": {
    "id": "K3dYiwwTyw9m"
   }
  },
  {
   "cell_type": "code",
   "source": [
    "first = 1000\n",
    "second = 10 * 100\n",
    "first != second"
   ],
   "metadata": {
    "id": "AfnD2h3hzogr",
    "trusted": true
   },
   "outputs": [],
   "execution_count": null
  },
  {
   "cell_type": "code",
   "source": [
    "first == second"
   ],
   "metadata": {
    "id": "pt838Z69z2Tz",
    "pycharm": {
     "is_executing": true
    },
    "trusted": true
   },
   "outputs": [],
   "execution_count": null
  },
  {
   "cell_type": "markdown",
   "source": [
    "**Do NOT use *is* for comparing values.** *is* is for object identity or comparison to None only."
   ],
   "metadata": {
    "collapsed": false
   }
  },
  {
   "cell_type": "code",
   "source": [
    "first is second"
   ],
   "metadata": {
    "collapsed": false,
    "trusted": true
   },
   "outputs": [],
   "execution_count": null
  },
  {
   "cell_type": "markdown",
   "source": [
    "Booleans are either True or False (capital T and F.)  \n",
    "There are  3 logical operators: and, or,  not.   \n",
    "**Make sure you do NOT use &, | and ^ when you need a logical operator.**"
   ],
   "metadata": {
    "id": "gkW4Pj-C0hz1"
   }
  },
  {
   "cell_type": "code",
   "source": [
    "print(5 > 3 or 2 == 1)\n",
    "print(not (3 < 4) and 9 != 0)"
   ],
   "metadata": {
    "id": "-9oL16sq2Xc8",
    "trusted": true
   },
   "outputs": [],
   "execution_count": null
  },
  {
   "cell_type": "markdown",
   "source": [
    "In Python,  we don't have to declare a variable type before using it.  The variable takes the type of whatever value we assign to it.  \n",
    "It is important to use descriptive variable names."
   ],
   "metadata": {
    "id": "5DJqoUxq4C5D"
   }
  },
  {
   "cell_type": "code",
   "source": [
    "result = 5 > 3 \n",
    "print(result)\n",
    "print(type(result)) # the type built-in function returns type/class\n",
    "result = 3 * 1.5  \n",
    "print(type(result))"
   ],
   "metadata": {
    "id": "Tyezf15j4Nd1",
    "trusted": true
   },
   "outputs": [],
   "execution_count": null
  },
  {
   "cell_type": "markdown",
   "source": [
    "Strings may be enclosed in:\n",
    "* single quotes: 'Hi'\n",
    "* double quotes: \"Hello\"\n",
    "* triple quotes: '''Howdy'''\n",
    "\n",
    "Single quotes allow embedded double quotes:  'She said \"I love Python\" and left'.  \n",
    "Double quotes allow embedded single quotes:  \"Isn't it great?\"  \n",
    "Triple quotes allow strings to span multiple lines.\n"
   ],
   "metadata": {
    "id": "6lhIyYtO5F-v"
   }
  },
  {
   "cell_type": "code",
   "source": [
    "print('She said \"I love Python\" and left')\n",
    "print(\"Isn't it great?\")\n",
    "print('''CS 156:\n",
    "         Intro to AI''')"
   ],
   "metadata": {
    "id": "1NU6dDn-5m2C",
    "trusted": true
   },
   "outputs": [],
   "execution_count": null
  },
  {
   "cell_type": "markdown",
   "source": [
    "Formatted strings start with f and allow us to specify variables inside curly braces.  The variables are replaced with their values in the formatted string."
   ],
   "metadata": {
    "collapsed": false
   }
  },
  {
   "cell_type": "code",
   "source": [
    "greeting = 'Hello'\n",
    "name = 'Class'\n",
    "print(f'{greeting} {name}!')"
   ],
   "metadata": {
    "collapsed": false,
    "pycharm": {
     "is_executing": true
    },
    "trusted": true
   },
   "outputs": [],
   "execution_count": null
  },
  {
   "cell_type": "markdown",
   "source": [
    "A comment starts with  the hash character (#) and extends to the end of the line."
   ],
   "metadata": {
    "id": "ekeY1Ov77zSr"
   }
  },
  {
   "cell_type": "code",
   "source": [
    "# this whole line is ignored by Python\n",
    "print (\"Hello\")     # everything from the # on is ignored by Python"
   ],
   "metadata": {
    "id": "nuy-Z7r17-Pq",
    "trusted": true
   },
   "outputs": [],
   "execution_count": null
  },
  {
   "cell_type": "markdown",
   "source": [
    "# Built-in Data Structures"
   ],
   "metadata": {
    "id": "4vLgeQQj_z7U"
   }
  },
  {
   "cell_type": "markdown",
   "source": [
    "## Lists\n",
    "Python lists are similar to arrays in other programming languages.  \n",
    "The elements of the list don't have to have the same type."
   ],
   "metadata": {
    "id": "r5u99oiMnia6"
   }
  },
  {
   "cell_type": "code",
   "source": [
    "my_list = ['Shakespeare', 500, 3.2, True]\n",
    "print(len(my_list)) # print the length of the list"
   ],
   "metadata": {
    "id": "1Vkg3z4K8nrm",
    "pycharm": {
     "is_executing": true
    },
    "trusted": true
   },
   "outputs": [],
   "execution_count": null
  },
  {
   "cell_type": "markdown",
   "source": [
    "We use the square brackets [ ] to access the items in the list, with the first item at index 0 and the last item at index -1.\n"
   ],
   "metadata": {
    "id": "kXq25yVW8xcV"
   }
  },
  {
   "cell_type": "code",
   "source": [
    "print(my_list[0]) # print the first item\n",
    "print(my_list[-1]) # print the last item"
   ],
   "metadata": {
    "id": "H1t6rzm788zb",
    "trusted": true
   },
   "outputs": [],
   "execution_count": null
  },
  {
   "cell_type": "markdown",
   "source": [
    "We can get a slice of a  list.   \n",
    "some_list[start:stop] is a sublist that is made up of the list items at *start* up to but not including the item at *stop*.  \n"
   ],
   "metadata": {
    "id": "wVHSFNdy9Nhc"
   }
  },
  {
   "cell_type": "code",
   "source": [
    "print(my_list [1:-2])"
   ],
   "metadata": {
    "id": "8_UuFOCp9QfO",
    "trusted": true
   },
   "outputs": [],
   "execution_count": null
  },
  {
   "cell_type": "markdown",
   "source": [
    "Omitting either index defaults to the start or end of the list."
   ],
   "metadata": {
    "id": "9Dfaw4l89Xmf"
   }
  },
  {
   "cell_type": "code",
   "source": [
    "print(my_list[1:])\n",
    "print(my_list[:3])\n",
    "print(my_list[:])"
   ],
   "metadata": {
    "id": "YMkqODkn9YoQ",
    "trusted": true
   },
   "outputs": [],
   "execution_count": null
  },
  {
   "cell_type": "markdown",
   "source": [
    "We use *append* to add an item to the end of the list."
   ],
   "metadata": {
    "id": "j5pJMoKOQggl"
   }
  },
  {
   "cell_type": "code",
   "source": [
    "my_list.append('Python')\n",
    "print(my_list)"
   ],
   "metadata": {
    "id": "tmh2nA_B8lue",
    "trusted": true
   },
   "outputs": [],
   "execution_count": null
  },
  {
   "cell_type": "markdown",
   "source": [
    "TO DO:  In the code cell below, add some Python code to print the slice that\n",
    " includes the 3 middle elements of _my_list_: [500, 3.2, True]"
   ],
   "metadata": {
    "collapsed": false
   }
  },
  {
   "cell_type": "code",
   "source": [
    "# TO DO: Enter your code below"
   ],
   "metadata": {
    "collapsed": false,
    "trusted": true
   },
   "outputs": [],
   "execution_count": null
  },
  {
   "cell_type": "markdown",
   "source": [
    "To check whether a list is empty, we use its boolean interpretation.  \n",
    "The boolean interpretation of an empty data structure (list, tuple, set or dictionary) is False.  \n",
    "The boolean interpretation of a non-empty data structure (list, tuple, set or dictionary) is True.\n"
   ],
   "metadata": {
    "id": "ajR9prLh92dp"
   }
  },
  {
   "cell_type": "code",
   "source": [
    "classes = ['CS 156', 'CS 152']\n",
    "\n",
    "if not classes:   # True only if the list is empty\n",
    "    print('I have no classes!')\n",
    "else:\n",
    "    print(f'I have {len(classes)} classes this semester!')"
   ],
   "metadata": {
    "id": "2cfnDUPY-A5-",
    "trusted": true
   },
   "outputs": [],
   "execution_count": null
  },
  {
   "cell_type": "markdown",
   "source": [
    "We can test if an item is in the list using _in_ and _not in_.\n",
    "**Remember to use the membership test in the assignments.**  There is no need to iterate over a sequence to check whether it contains a given item.\n"
   ],
   "metadata": {
    "id": "tvyAFDtM-Oxo"
   }
  },
  {
   "cell_type": "code",
   "source": [
    "grades = [85, 60, 100, 95, 75, 95]\n",
    "print(100 in grades)\n",
    "print(0 in grades)\n",
    "if 100 in grades:\n",
    "    print('Well done!')"
   ],
   "metadata": {
    "id": "RcAbIwpV-bQp",
    "trusted": true
   },
   "outputs": [],
   "execution_count": null
  },
  {
   "cell_type": "markdown",
   "source": [
    "We can take items out of a list using the ***remove*** method.  Note that only the first instance of the given element is removed."
   ],
   "metadata": {}
  },
  {
   "cell_type": "code",
   "source": [
    "grades = [85, 60, 100, 95, 75, 95]\n",
    "grades.remove(95)\n",
    "print(grades)"
   ],
   "metadata": {
    "trusted": true
   },
   "outputs": [],
   "execution_count": null
  },
  {
   "cell_type": "markdown",
   "source": [
    "The ***remove*** method generates an error if the item does not exist in the list. "
   ],
   "metadata": {}
  },
  {
   "cell_type": "code",
   "source": [
    "grades.remove(0)"
   ],
   "metadata": {
    "trusted": true
   },
   "outputs": [],
   "execution_count": null
  },
  {
   "cell_type": "markdown",
   "source": [
    "The *count* method returns the number of occurrences of the given element in the list. "
   ],
   "metadata": {
    "id": "T4qdaLNZULbo"
   }
  },
  {
   "cell_type": "code",
   "source": [
    "grades = [85, 60, 100, 95, 75, 95]\n",
    "grades.count(95)"
   ],
   "metadata": {
    "id": "WoGx0x4rUdBj",
    "trusted": true
   },
   "outputs": [],
   "execution_count": null
  },
  {
   "cell_type": "markdown",
   "source": [
    "If the list items are comparable, we can get their minimum and their maximum.  \n",
    "If the items are numbers, we can also get their sum.  \n",
    "*min*, *max* and *sum* are all built-in functions in Python.\n",
    "Remember to use these built-in functions in the assignments."
   ],
   "metadata": {
    "id": "pZ3PD7Fr_BLi"
   }
  },
  {
   "cell_type": "code",
   "source": [
    "grades = [85, 60, 100, 95, 75, 95]\n",
    "print(min(grades))\n",
    "print(max(grades))\n",
    "print(sum(grades))"
   ],
   "metadata": {
    "id": "7jP6i_cPMUkL",
    "trusted": true
   },
   "outputs": [],
   "execution_count": null
  },
  {
   "cell_type": "markdown",
   "source": [
    "There is no built-in function to compute the product of the elements of a list in Python, but we can import the _prod_ function from the math module and use it on any list (or other sequence)."
   ],
   "metadata": {}
  },
  {
   "cell_type": "code",
   "source": [
    "from math import prod\n",
    "print(prod([1, 2, 3]))"
   ],
   "metadata": {
    "trusted": true
   },
   "outputs": [],
   "execution_count": null
  },
  {
   "cell_type": "markdown",
   "source": [
    "*min* and *max* are higher order built-in functions. They take other functions as arguments.  \n",
    "To find the list element with the largest absolute value, we specify the *abs* function as the *key* argument.  "
   ],
   "metadata": {
    "id": "d5mrENm0p9Eh"
   }
  },
  {
   "cell_type": "code",
   "source": [
    "deviations = [4, -1, 5, 2, 12, -6, 18, -20]\n",
    "print(max(deviations, key=abs)) # abs is a built-in function"
   ],
   "metadata": {
    "id": "La2yAUN0rZfD",
    "trusted": true
   },
   "outputs": [],
   "execution_count": null
  },
  {
   "cell_type": "markdown",
   "source": [
    "The *abs* function is applied to all the elements of the list *deviations* to get a list of proxy values [4, 1, 5, 2, 12, 6, 18, 20].   \n",
    "The maximum of these proxy values is computed (it is 20) and the element in the original list that corresponds to 20 is returned (that is -20)."
   ],
   "metadata": {
    "id": "q0Czy_7DjsHJ"
   }
  },
  {
   "cell_type": "markdown",
   "source": [
    "TO DO: In the code cell below, use the built-in functions *min* and *len* to\n",
    " find the shortest word in the list *words*."
   ],
   "metadata": {
    "collapsed": false
   }
  },
  {
   "cell_type": "code",
   "source": [
    "words = ['simple', 'is', 'better', 'than', 'complex']\n",
    "# TO DO: Enter your code below"
   ],
   "metadata": {
    "collapsed": false,
    "pycharm": {
     "is_executing": true
    },
    "trusted": true
   },
   "outputs": [],
   "execution_count": null
  },
  {
   "cell_type": "markdown",
   "source": [
    "## Tuples\n",
    "A tuple is a sequence of values separated by commas.\n",
    "A tuple looks like a list but with () instead of [ ].\n",
    "The elements of the tuple don't have to have the same type.\n"
   ],
   "metadata": {
    "collapsed": false
   }
  },
  {
   "cell_type": "code",
   "source": [
    "order = ('apples', 2) # a tuple with 2 items"
   ],
   "metadata": {
    "id": "s0-4_9f2PBbN",
    "trusted": true
   },
   "outputs": [],
   "execution_count": null
  },
  {
   "cell_type": "markdown",
   "source": [
    "We often use tuples to assign multiple values at once. \n",
    "This is known as tuple unpacking. \n"
   ],
   "metadata": {
    "id": "0DwLUqpMPd2L"
   }
  },
  {
   "cell_type": "code",
   "source": [
    "fruit, weight = order  # known as tuple unpacking\n",
    "print(fruit)\n",
    "print(weight)"
   ],
   "metadata": {
    "id": "wyVjCZ-KQKhv",
    "trusted": true
   },
   "outputs": [],
   "execution_count": null
  },
  {
   "cell_type": "markdown",
   "source": [
    "In our homework assignments, we use tuples to represent positions in a grid.\n",
    "TO DO: In the code cell below, unpack the *position* variable into *x* and \n",
    "*y* coordinates and print the *x* coordinate only.\n"
   ],
   "metadata": {
    "collapsed": false
   }
  },
  {
   "cell_type": "code",
   "source": [
    "position = (5, 2)\n",
    "# TO DO: Enter your code below"
   ],
   "metadata": {
    "collapsed": false,
    "trusted": true
   },
   "outputs": [],
   "execution_count": null
  },
  {
   "cell_type": "markdown",
   "source": [
    "We can also use the square brackets [ ] to access the items in a tuple but **unpacking is usually considered more pythonic with small tuples.**"
   ],
   "metadata": {
    "id": "dqkvZ48W4gM1"
   }
  },
  {
   "cell_type": "code",
   "source": [
    "days_of_week = ('Sunday', 'Monday', 'Tuesday', 'Wednesday', 'Thursday', 'Friday', 'Saturday')\n",
    "print(days_of_week[2])\n",
    "print(days_of_week[-2])"
   ],
   "metadata": {
    "id": "NCS-_wbq5BDu",
    "trusted": true
   },
   "outputs": [],
   "execution_count": null
  },
  {
   "cell_type": "markdown",
   "source": [
    "Tuples look a lot like lists except that they have parentheses instead of square brackets.  So how do we decide to use one rather than the other?    \n",
    "There are two factors to keep in mind when making that choice:\n",
    "*   Tuples are immutable:  they cannot be changed. Lists are mutable.\n",
    "*   Tuples are faster than lists.\n",
    "    \n",
    "When we are dealing with constant data, tuples make our code faster and safer.  There is no way to accidentally change a tuple.  \n",
    "**The immutability of tuples allows us to use them as elements in a set.**\n",
    "\n"
   ],
   "metadata": {
    "id": "IV4WkoY9YiQ6"
   }
  },
  {
   "cell_type": "markdown",
   "source": [
    "## Sets\n",
    "A set is an unordered collection of unique items.  We can think of it as a bag.  \n",
    "We create a set by listing its elements between curly braces {}:"
   ],
   "metadata": {
    "id": "dj_FMFxntZGS"
   }
  },
  {
   "cell_type": "code",
   "source": [
    "fruits = {'apple', 'orange', 'banana', 'pear'}\n",
    "print(type(fruits))\n",
    "print(fruits)"
   ],
   "metadata": {
    "id": "yDuk0Rdknh6e",
    "trusted": true
   },
   "outputs": [],
   "execution_count": null
  },
  {
   "cell_type": "markdown",
   "source": [
    "Sets are **unordered**.\n",
    "The order I used to enter the set fruits was NOT preserved.  \n",
    "The items of a set are unique – even if we enter the same item more than once.  Duplicates are not added.\n",
    "\n"
   ],
   "metadata": {
    "id": "o-LLK4fPoMUM"
   }
  },
  {
   "cell_type": "code",
   "source": [
    "more_fruits = {'apple', 'orange', 'banana', 'pear', 'apple'}\n",
    "print(more_fruits)"
   ],
   "metadata": {
    "id": "LFqlJRS8xI10",
    "trusted": true
   },
   "outputs": [],
   "execution_count": null
  },
  {
   "cell_type": "markdown",
   "source": [
    "To create an empty set, we have to use set().  \n",
    "Do NOT use {} to create an empty set.  That will create an empty dictionary instead."
   ],
   "metadata": {
    "id": "RhQjinBryp1V"
   }
  },
  {
   "cell_type": "code",
   "source": [
    "my_empty = set()\n",
    "print(type(my_empty))"
   ],
   "metadata": {
    "id": "iDNruIGsyuWJ",
    "trusted": true
   },
   "outputs": [],
   "execution_count": null
  },
  {
   "cell_type": "markdown",
   "source": [
    "To check whether a set is non-empty, we use its boolean interpretation.  \n",
    "The boolean interpretation of an empty set is False.  \n",
    "The boolean interpretation of a non-empty set is True.  "
   ],
   "metadata": {
    "id": "4xGWDCQuzAbt"
   }
  },
  {
   "cell_type": "code",
   "source": [
    "if not fruits:      # True only if the set is non-empty\n",
    "    print(\"Let's go buy some fruits!\")\n",
    "else:\n",
    "    print(\"We're all set!\")"
   ],
   "metadata": {
    "id": "hZuz5kKxzEP2",
    "trusted": true
   },
   "outputs": [],
   "execution_count": null
  },
  {
   "cell_type": "markdown",
   "source": [
    "We add items to a set using the ***add*** method:"
   ],
   "metadata": {
    "id": "kJy1_pNkziuZ"
   }
  },
  {
   "cell_type": "code",
   "source": [
    "fruits.add('watermelon')\n",
    "print(fruits)"
   ],
   "metadata": {
    "id": "ReKl9KkGzy7c",
    "trusted": true
   },
   "outputs": [],
   "execution_count": null
  },
  {
   "cell_type": "markdown",
   "source": [
    "If we try to add a value that already exists in the set, no error or warning is generated.  The value is simply not added.\n"
   ],
   "metadata": {
    "id": "D0-cP4vdz9Td"
   }
  },
  {
   "cell_type": "code",
   "source": [
    "fruits.add('apple')\n",
    "print(fruits)"
   ],
   "metadata": {
    "id": "o1iZqXSGy__j",
    "trusted": true
   },
   "outputs": [],
   "execution_count": null
  },
  {
   "cell_type": "markdown",
   "source": [
    "We can take items out of a set using the ***discard*** method.  \n",
    "The discard method does not generate an error if the item does not exist in the set. \n"
   ],
   "metadata": {
    "id": "BkTMT2HM126o"
   }
  },
  {
   "cell_type": "code",
   "source": [
    "fruits.discard('pear')\n",
    "print(fruits)\n",
    "fruits.discard('strawberries')\n",
    "print(fruits)"
   ],
   "metadata": {
    "id": "uuVfLWcY2SXy",
    "trusted": true
   },
   "outputs": [],
   "execution_count": null
  },
  {
   "cell_type": "markdown",
   "source": [
    "We can test for membership in a set with ***in*** and ***not in***:"
   ],
   "metadata": {
    "id": "mRXHtMLs21yh"
   }
  },
  {
   "cell_type": "code",
   "source": [
    "if 'watermelon' in fruits:\n",
    "    print('Yum!')\n",
    "if 'strawberries' not in fruits:\n",
    "    print(\"Let's go buy some strawberries!\") "
   ],
   "metadata": {
    "id": "zEuTe22_27t8",
    "trusted": true
   },
   "outputs": [],
   "execution_count": null
  },
  {
   "cell_type": "markdown",
   "source": [
    "### Set Operations and Operators\n",
    "Python supports the following set operations and operators:\n",
    "\n",
    "Union of two sets: set1 | set2 -> the set of items that are in either set1 or in set2\n",
    "\n",
    "Intersection of two sets: set1 & set2 -> the set of items that are in set1 \n",
    "and in set2\n",
    "\n",
    "Difference of two sets: set1 - set2 -> the set of items that are in set1 but\n",
    " not in set2\n",
    "\n",
    "Symmetric difference of two sets: set1 ^ set2 -> the set of items that are \n",
    "in either set1 or in set2 but not in both"
   ],
   "metadata": {
    "collapsed": false
   }
  },
  {
   "cell_type": "markdown",
   "source": [
    "TO DO: In the code cell below, write some Python code (using set operators) \n",
    "to print:\n",
    "1. the set of students taking both CS156 and CS152\n",
    "2. the number of students in CS156 and CS152 (answer is 7)."
   ],
   "metadata": {
    "collapsed": false
   }
  },
  {
   "cell_type": "code",
   "source": [
    "cs156 = {'Angela', 'Alex', 'Nick', 'Rachel', 'Timothy'}\n",
    "cs152 = {'Alicia', 'Alex', 'Nick', 'Ryan', 'Timothy'}\n",
    "# TO DO: Enter your code below"
   ],
   "metadata": {
    "collapsed": false,
    "trusted": true
   },
   "outputs": [],
   "execution_count": null
  },
  {
   "cell_type": "markdown",
   "source": [
    "So when do we use a set instead of a list or a tuple?\n",
    "* Membership testing is faster with sets.\n",
    "* We usually use sets when the order is not important and when we are dealing with unique items. \n",
    "* We can only use sets if the underlying elements are immutable.  We cannot have a set of lists for example.\n",
    "\n",
    "You will be required to use a set in  some homework assignments."
   ],
   "metadata": {
    "id": "k-bG4OUx4IPp"
   }
  },
  {
   "cell_type": "markdown",
   "source": [
    "## Dictionaries\n",
    "A dictionary is a collection of key: value pairs.\n",
    "Each entry contains a key and a value separated by a colon.  \n",
    "The purpose of a dictionary is to store and retrieve values that are indexed by descriptive keys.  \n",
    "We create a dictionary by specifying the  key: value pairs between curly braces {}:"
   ],
   "metadata": {
    "id": "fZgyIlfqthU0"
   }
  },
  {
   "cell_type": "code",
   "source": [
    "prices = {'apples': 2.25, 'oranges': 1.59, 'pears': 1.75}"
   ],
   "metadata": {
    "id": "Vg8QT6oa7ysP",
    "trusted": true
   },
   "outputs": [],
   "execution_count": null
  },
  {
   "cell_type": "markdown",
   "source": [
    "In this case the keys are strings.  Dictionary keys can be of any immutable type (strings, numbers, immutable tuples but not lists or sets.)   \n",
    "Keys are **unique** within a dictionary.  \n",
    "Before Python 3.6, dictionaries were unordered.  Starting with Python 3.6, the insertion order is preserved.\n"
   ],
   "metadata": {
    "id": "a0Q-idbA8JkP"
   }
  },
  {
   "cell_type": "code",
   "source": [
    "print(prices)"
   ],
   "metadata": {
    "id": "hyZxWSns8XO0",
    "trusted": true
   },
   "outputs": [],
   "execution_count": null
  },
  {
   "cell_type": "markdown",
   "source": [
    "We access the value corresponding to a certain key with the square brackets [ ].\n"
   ],
   "metadata": {
    "id": "T9hYY6ca8z4b"
   }
  },
  {
   "cell_type": "code",
   "source": [
    "print(prices['apples'])"
   ],
   "metadata": {
    "id": "or3VqjYz86cS",
    "trusted": true
   },
   "outputs": [],
   "execution_count": null
  },
  {
   "cell_type": "markdown",
   "source": [
    "Python dictionaries are optimized for retrieving the value when we know the key, but not the other way around.  \n",
    "We check for membership in a dictionary, using __in__ and **not in**.  \n",
    "**Note that the membership test checks if the given value is a dictionary key.**\n",
    "\n"
   ],
   "metadata": {
    "collapsed": false
   }
  },
  {
   "cell_type": "code",
   "source": [
    "if 'strawberries' not in prices:\n",
    "    print('I have no idea how much strawberries cost!')"
   ],
   "metadata": {
    "id": "cz2NgTEj9_hM",
    "trusted": true
   },
   "outputs": [],
   "execution_count": null
  },
  {
   "cell_type": "markdown",
   "source": [
    "A dictionary is a mutable data type.  We can add items to a dictionary, modify existing items and delete items from a dictionary.  \n",
    "**We add key value pairs to the dictionary by assigning a value to a new key.**\n"
   ],
   "metadata": {
    "id": "aSFGn3Ng-yUH"
   }
  },
  {
   "cell_type": "code",
   "source": [
    "prices['strawberries'] = 1.99\n",
    "print(prices)"
   ],
   "metadata": {
    "id": "K8Cv5H7I--bI",
    "trusted": true
   },
   "outputs": [],
   "execution_count": null
  },
  {
   "cell_type": "markdown",
   "source": [
    "A dictionary can have at most one value for each key.  \n",
    "Assigning a value to an existing dictionary key replaces the old value with the new one."
   ],
   "metadata": {
    "id": "MhcNYWD6_NYN"
   }
  },
  {
   "cell_type": "code",
   "source": [
    "prices['oranges'] = 5\n",
    "print(prices)"
   ],
   "metadata": {
    "id": "L0-3WRQa_SBh",
    "trusted": true
   },
   "outputs": [],
   "execution_count": null
  },
  {
   "cell_type": "markdown",
   "source": [
    "TO DO: In the code cell below, add the price of grapes (2.99) to the *prices* \n",
    "dictionary.  Then print the dictionary."
   ],
   "metadata": {
    "collapsed": false
   }
  },
  {
   "cell_type": "code",
   "source": [
    "# TO DO: Enter your code below"
   ],
   "metadata": {
    "collapsed": false,
    "trusted": true
   },
   "outputs": [],
   "execution_count": null
  },
  {
   "cell_type": "markdown",
   "source": [
    "TO DO: In the code cell below, compute the total cost (without taxes) of 2 pounds of apples and 3 pounds of pears."
   ],
   "metadata": {
    "collapsed": false
   }
  },
  {
   "cell_type": "code",
   "source": [
    "# TO DO: Enter your code below\n",
    "total = ..."
   ],
   "metadata": {
    "collapsed": false,
    "trusted": true
   },
   "outputs": [],
   "execution_count": null
  },
  {
   "cell_type": "markdown",
   "source": [
    "# Control Structures"
   ],
   "metadata": {
    "id": "IJetiwzSt2v9"
   }
  },
  {
   "cell_type": "markdown",
   "source": [
    "## Conditional Statements\n",
    "Indentation is key in Python.  Instead of the braces used in Java to delimit the block of code that gets executed when the condition is true, Python relies on indentation. \n",
    "The condition is always followed by a colon and the **optional** else keyword is always followed by a colon."
   ],
   "metadata": {
    "id": "iU0oJXsj_nP1"
   }
  },
  {
   "cell_type": "code",
   "source": [
    "if 'strawberries' in fruits:    \n",
    "    print('Yum!')          # indented block executed when the condition is True\n",
    "    print('Strawberries!') # indented block executed when the condition is True\n",
    "else:\n",
    "    print(\"Oh no!\")                          # indented block executed otherwise\n",
    "    print(\"Let's go buy some strawberries!\") # indented block executed otherwise"
   ],
   "metadata": {
    "id": "YMnyKZ_LBrPC",
    "trusted": true
   },
   "outputs": [],
   "execution_count": null
  },
  {
   "cell_type": "markdown",
   "source": [
    "## For Loops\n",
    "A for loop allows us to go over the items of a sequence such as a list, tuple or a string in **sequential order**.  \n",
    "Here again, indentation delimits the block of code that is executed repeatedly, once for each element of the sequence."
   ],
   "metadata": {
    "id": "UTZ08DjbCKvI"
   }
  },
  {
   "cell_type": "code",
   "source": [
    "grades = [89, 60, 100]  \n",
    "for each_grade in grades:\n",
    "    print(each_grade)  # indented block executed repeatedly\n",
    "print('All done!')     # unindented statement executed after the loop is exited"
   ],
   "metadata": {
    "id": "W1cIOtaeC3Y1",
    "trusted": true
   },
   "outputs": [],
   "execution_count": null
  },
  {
   "cell_type": "markdown",
   "source": [
    "The range sequence type provides us with a sequence of integers.  \n",
    "We can use this sequence in the for loop.  \n",
    "range(stop) -> Generates a sequence of integers from 0 up to but not including *stop*.  \n",
    "\n"
   ],
   "metadata": {
    "id": "gHEENL-9GKXD"
   }
  },
  {
   "cell_type": "code",
   "source": [
    "for count in range(3):\n",
    "  print(count)"
   ],
   "metadata": {
    "id": "rb83SWj3GiIU",
    "trusted": true
   },
   "outputs": [],
   "execution_count": null
  },
  {
   "cell_type": "markdown",
   "source": [
    "range(start, stop) -> Generates a sequence of integers from *start* up to but not including *stop*.  \n"
   ],
   "metadata": {
    "id": "LtahDR9zGtgp"
   }
  },
  {
   "cell_type": "code",
   "source": [
    "for count in range(10, 15):\n",
    "  print(count)"
   ],
   "metadata": {
    "id": "3L0oWyxHG0Wp",
    "trusted": true
   },
   "outputs": [],
   "execution_count": null
  },
  {
   "cell_type": "markdown",
   "source": [
    "range(start, stop, step) -> Generates a sequence of integers from *start* up to but not including *stop* incrementing by *step*.  \n",
    "Note that *start*, *stop* and *step* have to be integers. "
   ],
   "metadata": {
    "id": "ONPz6qBLGx3r"
   }
  },
  {
   "cell_type": "code",
   "source": [
    "for count in range(20, 50, 5):\n",
    "  print(count)"
   ],
   "metadata": {
    "id": "JREq-DUmG6q7",
    "trusted": true
   },
   "outputs": [],
   "execution_count": null
  },
  {
   "cell_type": "markdown",
   "source": [
    "TO DO: In the code cell below, use a for loop to print all the *even* numbers \n",
    "between 100 and 200 and including 100 and 200."
   ],
   "metadata": {
    "collapsed": false
   }
  },
  {
   "cell_type": "code",
   "source": [
    "# TO DO: Enter your code below"
   ],
   "metadata": {
    "collapsed": false,
    "trusted": true
   },
   "outputs": [],
   "execution_count": null
  },
  {
   "cell_type": "markdown",
   "source": [
    "A for loop also allows us to iterate over the items of a set but the iteration is in arbitrary order.\n"
   ],
   "metadata": {
    "collapsed": false
   }
  },
  {
   "cell_type": "code",
   "source": [
    "desserts = {'cookies', 'brownies', 'ice cream', 'pie'}\n",
    "for each_dessert in desserts:\n",
    "    print(each_dessert)"
   ],
   "metadata": {
    "collapsed": false,
    "trusted": true
   },
   "outputs": [],
   "execution_count": null
  },
  {
   "cell_type": "markdown",
   "source": [
    "We can use a  for loop to iterate over a dictionary. \n",
    "**Iterating over a dictionary is equivalent to iterating over its keys.**\n"
   ],
   "metadata": {
    "collapsed": false
   }
  },
  {
   "cell_type": "code",
   "source": [
    "for each_fruit in prices:\n",
    "    print(f'{each_fruit}: ${prices[each_fruit]}/lb')"
   ],
   "metadata": {
    "collapsed": false,
    "trusted": true
   },
   "outputs": [],
   "execution_count": null
  },
  {
   "cell_type": "markdown",
   "source": [
    "## While Loops\n",
    "A while loop executes an indented statement block repeatedly as long as a given condition is true.\n",
    "\n",
    "Try at least one incorrect password and then the correct one when you run the code cell below."
   ],
   "metadata": {
    "id": "hF-ZruDqaT3C"
   }
  },
  {
   "cell_type": "code",
   "source": [
    "key = 'AI'\n",
    "success  = False\n",
    "while not success:\n",
    "    # indented block:  this is the loop body\n",
    "    password = input('Please enter your password: ') \n",
    "    if password == key:\n",
    "        success = True\n",
    "# unindented statement executed after the loop is exited\n",
    "print(\"You're in!\")"
   ],
   "metadata": {
    "id": "TzXz4ulycSRc",
    "trusted": true
   },
   "outputs": [],
   "execution_count": null
  },
  {
   "cell_type": "markdown",
   "source": [
    "# Functions"
   ],
   "metadata": {
    "id": "GcC2fvs4t6j7"
   }
  },
  {
   "cell_type": "markdown",
   "source": [
    "## Function Definition\n",
    "A function definition starts with the reserved word def (short for define), followed by the function name.  \n",
    "Here's a function definition for a function named *area*."
   ],
   "metadata": {
    "id": "NvCYU6arlsiX"
   }
  },
  {
   "cell_type": "code",
   "source": [
    "def area(length, width):\n",
    "    \"\"\"\n",
    "    Compute the area of a rectangle\n",
    "    :param length: (number) length of the rectangle in inches\n",
    "    :param width: (number) width of the rectangle in inches\n",
    "    :return: (number) area of the rectangle\n",
    "    \"\"\"\n",
    "    result = length * width\n",
    "    return result \n",
    "\n",
    "area(5, 3) # function call"
   ],
   "metadata": {
    "id": "OFPjI-ECeDsP",
    "trusted": true
   },
   "outputs": [],
   "execution_count": null
  },
  {
   "cell_type": "markdown",
   "source": [
    "Our function takes two input parameters: *length* and *width*.  Note that the parameters do not have a type associated with them.  \n",
    "The function definition header ends with a colon.  \n",
    "Everything in a function definition is indented. There are no curly braces and no begins and ends to delimit the function otherwise.  \n",
    "\n",
    "Our function include a documentation string (docstring) that describes the parameters and return value and their expected types.\n",
    "The docstring is the first thing within the function definition.  It is also indented.  \n",
    "\n",
    "*result* is a local variable in our function.\n",
    "\n",
    "A function may or may not have a *return* statement. The *return* statement causes the function to exit, and passes back an expression (return value) to the caller.  \n",
    "Our function returns the value of the variable *result* which is the product of the length and width.  \n",
    "\n",
    "If the *return* statement is omitted, the function is exited at the end of the indented code and the Python constant None is returned to the caller.  \n",
    "None is also returned when a *return* statement is included without an associated expression as in:\n",
    "return"
   ],
   "metadata": {
    "id": "UvbPZOB1fC_A"
   }
  },
  {
   "cell_type": "markdown",
   "source": [
    "## Argument Types\n",
    "We call a function using one of the following types of arguments:\n",
    "* Required positional arguments\n",
    "* Keyword arguments\n",
    "* Default arguments (positional or keyword) \n"
   ],
   "metadata": {
    "id": "xapIbdlol1L1"
   }
  },
  {
   "cell_type": "markdown",
   "source": [
    "Required positional arguments are the arguments passed to a function in correct positional order.   \n",
    "The number of arguments in the function call should match the number of parameters in the function definition.\n"
   ],
   "metadata": {
    "id": "NA4jDiZqnJsC"
   }
  },
  {
   "cell_type": "code",
   "source": [
    "area(5, 3) "
   ],
   "metadata": {
    "id": "LMek-KWpnSYS",
    "trusted": true
   },
   "outputs": [],
   "execution_count": null
  },
  {
   "cell_type": "markdown",
   "source": [
    "We can also call a function using keyword arguments of the form \"keyword = value\".  \n",
    "We just have to identify the arguments by the parameter name.  \n",
    "This lets us skip arguments or place them out of order because the interpreter is able to use the keywords provided to match the values with parameters. \n"
   ],
   "metadata": {
    "id": "VTsPu-Senf7C"
   }
  },
  {
   "cell_type": "code",
   "source": [
    "area(width=10, length=20)"
   ],
   "metadata": {
    "id": "H67LPPI6nppk",
    "trusted": true
   },
   "outputs": [],
   "execution_count": null
  },
  {
   "cell_type": "markdown",
   "source": [
    "When we define a function, we can provide default values.\n",
    "When calling that function, arguments with default values are optional. If they are not provided, then the default value is used.\n"
   ],
   "metadata": {
    "id": "1UuXUK_1t1AC"
   }
  },
  {
   "cell_type": "code",
   "source": [
    "def diff(first, second=1):\n",
    "      result = first - second\n",
    "      return result\n",
    "print(diff(4, 2))  # default value is overridden\n",
    "print(diff(4))     # default value 1 is used"
   ],
   "metadata": {
    "id": "FK2I6zimt8K_",
    "trusted": true
   },
   "outputs": [],
   "execution_count": null
  },
  {
   "cell_type": "markdown",
   "source": [
    "## Higher Order Functions\n",
    "Functions that take other functions as arguments are called higher order functions.\n",
    "You will be asked to implement a higher order function in one of the homework assignments.  \n",
    "Here's an example.\n"
   ],
   "metadata": {
    "id": "dHOW7q77uvuB"
   }
  },
  {
   "cell_type": "code",
   "source": [
    "def compare(first, second, f):\n",
    "    \"\"\"\n",
    "    Compare f(first) to f(second)\n",
    "    :param first: (?)\n",
    "    :param second: (?)\n",
    "    :param f:(function)\n",
    "    :return: (boolean)\n",
    "    \"\"\"\n",
    "    return f(first) <= f(second)\n",
    "compare(-10, 3, abs)"
   ],
   "metadata": {
    "id": "tLbghw33z-QH",
    "trusted": true
   },
   "outputs": [],
   "execution_count": null
  },
  {
   "cell_type": "markdown",
   "source": [
    "## Lambda Expressions\n",
    "Lambda expressions provide a concise way to define functions without giving them a name.    \n",
    "They are used to create and use functions on the fly.   \n",
    "Lambda expressions are usually passed as arguments to other functions.  \n",
    "The syntax to specify a lambda function is as follows:  \n",
    "lambda parameters: return_value   \n",
    "Here are some examples.\n"
   ],
   "metadata": {
    "id": "EOtyY9im0bf0"
   }
  },
  {
   "cell_type": "code",
   "source": [
    "lambda x: 1 / x\n",
    "lambda x, y: x * y"
   ],
   "metadata": {
    "id": "OYzgPf_u1iiO",
    "trusted": true
   },
   "outputs": [],
   "execution_count": null
  },
  {
   "cell_type": "markdown",
   "source": [
    "These are Python expressions denoting function objects.  They can appear in an assignment statement or as an argument to a higher order function such as *compare*, *max* or *min*."
   ],
   "metadata": {
    "id": "lVtmbHsl13X0"
   }
  },
  {
   "cell_type": "code",
   "source": [
    "print(compare(2, 1, lambda x: 1 / x))\n",
    "print(max(deviations, key=lambda d: d**2))\n",
    "points = {(3, 1), (0, 5), (1, 2)}\n",
    "print(min(points, key=lambda p: p[1]))"
   ],
   "metadata": {
    "id": "vZQtCreG2Nvj",
    "trusted": true
   },
   "outputs": [],
   "execution_count": null
  },
  {
   "cell_type": "markdown",
   "source": [
    "# Comprehensions\n",
    "Comprehensions provide an easy and concise way to create lists, sets and dictionaries.\n",
    "The general syntax of a list comprehension is as follows:\n",
    "\n",
    "*   [element for variable in iterable]\n",
    "\n",
    "or\n",
    "*   [element for variable in iterable if condition]\n",
    "\n",
    "Here are some examples of list comprehensions.\n",
    "\n",
    "\n"
   ],
   "metadata": {
    "id": "eviYbGY4XX8W"
   }
  },
  {
   "cell_type": "code",
   "source": [
    "counts = [0 for i in range (10)] # initialize a list\n",
    "print(counts)"
   ],
   "metadata": {
    "id": "e0rtN3-tZYCD",
    "trusted": true
   },
   "outputs": [],
   "execution_count": null
  },
  {
   "cell_type": "code",
   "source": [
    "even_numbers = [2, 4, 6, 8]\n",
    "squares = [n*n for n in even_numbers] # map one list to another\n",
    "print(squares)"
   ],
   "metadata": {
    "id": "QYWncIX8eqW8",
    "trusted": true
   },
   "outputs": [],
   "execution_count": null
  },
  {
   "cell_type": "code",
   "source": [
    "temperatures = [64, 86, 101, 39, 55, 43]\n",
    "cold_temperatures = [t for t in temperatures if t < 50] # filter a list\n",
    "print(cold_temperatures)"
   ],
   "metadata": {
    "id": "BuUyQYDwfajn",
    "trusted": true
   },
   "outputs": [],
   "execution_count": null
  },
  {
   "cell_type": "markdown",
   "source": [
    "# Python Classes\n",
    "Although you don't have to write any class definitions in the programming projects, you will have to create some objects and invoke methods defined  on these objects.  \n",
    "We'll cover the basics here. "
   ],
   "metadata": {
    "id": "VqZIr4x3t9XP"
   }
  },
  {
   "cell_type": "code",
   "source": [
    "class Account:\n",
    "\n",
    "    \"\"\"\n",
    "    Represent a bank account.\n",
    "\n",
    "    Argument:\n",
    "    account_holder (string): account holder's name.\n",
    "\n",
    "    Attributes:\n",
    "    holder (string): account holder's name.\n",
    "    balance (number): account balance in dollars.\n",
    "    \"\"\"\n",
    "\n",
    "    currency = '$' # class variable used as a class wide constant\n",
    "\n",
    "    def __init__(self, account_holder):\n",
    "        self.holder = account_holder\n",
    "        self.balance = 0\n",
    "\n",
    "    def deposit(self, amount):\n",
    "        \"\"\"\n",
    "        Deposit the given amount to the account.\n",
    "        :param amount: (number) the amount to be deposited in dollars.\n",
    "        \"\"\"\n",
    "        self.balance += amount\n",
    "\n",
    "    def withdraw(self, amount):\n",
    "        \"\"\"\n",
    "        Withdraw the specified amount from the account if possible.\n",
    "        :param amount: (number) the amount to be withdrawn in dollars.\n",
    "        :return: (boolean) True if the withdrawal is successful\n",
    "                False otherwise\n",
    "        \"\"\"\n",
    "        if self.balance >= amount:\n",
    "            self.balance = self.balance - amount\n",
    "            return True\n",
    "        else:\n",
    "            return False"
   ],
   "metadata": {
    "id": "sb0bsvUnCFwy",
    "trusted": true
   },
   "outputs": [],
   "execution_count": null
  },
  {
   "cell_type": "markdown",
   "source": [
    "A Python class definition starts with the reserved word class, followed by the class name.  \n",
    "Everything in a class  definition is indented.  \n",
    "The method that initializes objects has a special name, *\\_\\_init\\_\\_*.\n",
    "Think of it as the constructor for the class – even though the object has already been created.  \n",
    "*account_holder* is the argument.  We specify it when we instantiate an Account object.  \n",
    "To create an Account object, we call Account as if it were a function. We pass the argument(s) that will be used by *\\_\\_init\\_\\_*.\n"
   ],
   "metadata": {
    "id": "8Wz_XciD993K"
   }
  },
  {
   "cell_type": "code",
   "source": [
    "my_account = Account('Rula')\n",
    "print(type(my_account))"
   ],
   "metadata": {
    "id": "dmlmQRz7chli",
    "trusted": true
   },
   "outputs": [],
   "execution_count": null
  },
  {
   "cell_type": "markdown",
   "source": [
    "The above statement creates a new instance of the class Account and assigns this object to the local variable *my_account*.  \n",
    "There is no explicit *new* operator like in other languages."
   ],
   "metadata": {
    "id": "5kwVqU_3_6DI"
   }
  },
  {
   "cell_type": "code",
   "source": [
    "print(my_account.holder)\n",
    "print(my_account.balance)"
   ],
   "metadata": {
    "id": "E6SWwbTFdUQ9",
    "trusted": true
   },
   "outputs": [],
   "execution_count": null
  },
  {
   "cell_type": "markdown",
   "source": [
    "*holder* and *balance* are instance variables (attributes).\n",
    "They are initialized in *\\_\\_init\\_\\_* and stored in the object."
   ],
   "metadata": {
    "id": "MYbWJLNsdBMY"
   }
  },
  {
   "cell_type": "markdown",
   "source": [
    "Let's take a closer look at the method definitions.\n",
    "All method definitions include the special first parameter *self*.  *self* refers to the object (instance) on which the method is invoked.  \n",
    "All methods can  access and manipulate the object's state via the instance variables.  \n",
    "To access an instance variable inside the method, we use *self.variable_name* (for example *self.balance*.)   \n",
    "**IMPORTANT:**  \n",
    "All uses of instance variables require explicit mention of the object.\n",
    "*balance* is a local variable in the method – not an instance variable.  \n",
    "*self.balance* is an instance variable.\n"
   ],
   "metadata": {
    "id": "ifzP70uPd1it"
   }
  },
  {
   "cell_type": "markdown",
   "source": [
    "When invoking the methods on the object (*my_account*), the *self* parameter does not have to be specified.\n"
   ],
   "metadata": {
    "id": "otDM865vATIb"
   }
  },
  {
   "cell_type": "code",
   "source": [
    "my_account.deposit(20)\n",
    "my_account.withdraw(5)"
   ],
   "metadata": {
    "id": "oNejLeu5AjO0",
    "trusted": true
   },
   "outputs": [],
   "execution_count": null
  },
  {
   "cell_type": "markdown",
   "source": [
    "The instance variables are accessible from outside the class."
   ],
   "metadata": {
    "id": "9jRKMv34i5P5"
   }
  },
  {
   "cell_type": "code",
   "source": [
    "print(my_account.balance)\n",
    "my_account.balance = 500\n",
    "print(my_account.balance)"
   ],
   "metadata": {
    "id": "lPDl762TjAXr",
    "trusted": true
   },
   "outputs": [],
   "execution_count": null
  },
  {
   "cell_type": "markdown",
   "source": [
    "TO DO:  In the code cell below, create an Account object for yourself (your \n",
    "name will be the account holder).  Then use the *deposit* method to add 200 dollars\n",
    "to the account and the *withdraw* method to withdraw 20 dollars.\n",
    "Do not modify the instance variables from outside the class."
   ],
   "metadata": {
    "collapsed": false
   }
  },
  {
   "cell_type": "code",
   "source": [
    "# TO DO: Enter your code below"
   ],
   "metadata": {
    "collapsed": false,
    "trusted": true
   },
   "outputs": [],
   "execution_count": null
  },
  {
   "cell_type": "markdown",
   "source": [
    "# Important: Aliasing\n",
    "Aliasing is the source of many hard to find bugs.  \n",
    "Complete this section now and come back to it if you have some mysterious \n",
    "bug in one of the homework assignments.\n",
    "\n",
    "Assignments do not copy objects. \n",
    "They create aliases : two or more variables pointing to the same object in memory.\n",
    "Here's an example with lists.  \n",
    "Let's assume that Anna's grades are saved in the list *anna*."
   ],
   "metadata": {
    "id": "l6GZ0jOx9eIZ"
   }
  },
  {
   "cell_type": "code",
   "source": [
    "anna = [98, 87, 100]\n",
    "print(anna)"
   ],
   "metadata": {
    "id": "fj1gLOkMB8PM",
    "trusted": true
   },
   "outputs": [],
   "execution_count": null
  },
  {
   "cell_type": "markdown",
   "source": [
    "Bryan happens to get the same grades as Anna (98, 97, 100). So, to avoid retyping the grades and assigning them to the list *bryan*, we write:"
   ],
   "metadata": {
    "id": "Aq1Ax6AMPdDg"
   }
  },
  {
   "cell_type": "code",
   "source": [
    "bryan = anna\n",
    "print(bryan)"
   ],
   "metadata": {
    "id": "PnpdHYfNPWPr",
    "trusted": true
   },
   "outputs": [],
   "execution_count": null
  },
  {
   "cell_type": "markdown",
   "source": [
    "That seems to work so far.\n",
    "Now let's say we find out that Anna cheated on her last assignment and instead of the 100, she gets a 0.  \n",
    "We can change her last grade (element at index position 2):"
   ],
   "metadata": {
    "id": "iyHOkn8mPrZR"
   }
  },
  {
   "cell_type": "code",
   "source": [
    "anna[2] = 0\n",
    "print(anna)"
   ],
   "metadata": {
    "id": "iBExWexZQN4_",
    "trusted": true
   },
   "outputs": [],
   "execution_count": null
  },
  {
   "cell_type": "markdown",
   "source": [
    "Bryan comes complaining.  Why?"
   ],
   "metadata": {
    "id": "K5fCyP5jQYj0"
   }
  },
  {
   "cell_type": "code",
   "source": [
    "print(bryan)"
   ],
   "metadata": {
    "id": "PEAhCVRUQeY1",
    "trusted": true
   },
   "outputs": [],
   "execution_count": null
  },
  {
   "cell_type": "markdown",
   "source": [
    "The problem is that the two variables *anna* and *bryan* point to the same object in memory.\n",
    "\n",
    "To avoid this problem, and **if our lists are not nested** we can use the copy method or a slice assignment to create a shallow copy of the list."
   ],
   "metadata": {
    "id": "UNMIogOaRLGs"
   }
  },
  {
   "cell_type": "code",
   "source": [
    "anna = [98, 87, 100]\n",
    "bryan = anna.copy()  # we can also write bryan = anna[:]\n",
    "anna[2] = 0\n",
    "print(anna)\n",
    "print(bryan)"
   ],
   "metadata": {
    "collapsed": false,
    "trusted": true
   },
   "outputs": [],
   "execution_count": null
  },
  {
   "cell_type": "markdown",
   "source": [
    "Here is another example with sets.\n",
    "Let's say we have a group of friends: Anna, Bryan, Charlie and David.\n",
    "We need to keep track of items that each one of them needs to buy from the grocery store.  We use a dictionary where the keys are the friends names and the values are sets containing their items.  \n",
    "We know that all 4 friends need milk and bread.  Additionally, Anna needs coffee, Bryan needs tea, Charlie needs rice and David needs ice cream.  \n",
    "Since they all need bread and milk, we make one set that we call *essentials* and use it to initialize the other sets."
   ],
   "metadata": {
    "id": "fEhOA0BzRfiZ"
   }
  },
  {
   "cell_type": "code",
   "source": [
    "essentials = {'bread', 'milk'}\n",
    "friends = {'anna', 'bryan', 'charlie', 'david'}\n",
    "groceries = {} # a dictionary \n",
    "for each_friend in friends:\n",
    "  groceries[each_friend] = essentials # initialize the 4 sets\n",
    "for each_friend in friends:\n",
    "  print(f'{each_friend}: {groceries[each_friend]}') "
   ],
   "metadata": {
    "id": "teQqWXUITmvE",
    "trusted": true
   },
   "outputs": [],
   "execution_count": null
  },
  {
   "cell_type": "markdown",
   "source": [
    "Now that we have initialized the 4 sets, let's add the non-common items."
   ],
   "metadata": {
    "id": "ix_lSUpRU-Gx"
   }
  },
  {
   "cell_type": "code",
   "source": [
    "groceries['anna'].add('coffee')\n",
    "groceries['bryan'].add('tea')\n",
    "groceries['charlie'].add('rice')\n",
    "groceries['david'].add('ice cream')\n"
   ],
   "metadata": {
    "id": "zbylTmGNVItF",
    "trusted": true
   },
   "outputs": [],
   "execution_count": null
  },
  {
   "cell_type": "markdown",
   "source": [
    "Now let's print the 4 sets."
   ],
   "metadata": {
    "id": "zheMRrwQVYgb"
   }
  },
  {
   "cell_type": "code",
   "source": [
    "for each_friend in friends:\n",
    "  print(f'{each_friend}: {groceries[each_friend]}')"
   ],
   "metadata": {
    "id": "5FeN_bqdVuG6",
    "trusted": true
   },
   "outputs": [],
   "execution_count": null
  },
  {
   "cell_type": "markdown",
   "source": [
    "What happened?  When we initialized the 4 sets, we did not create new sets.  The assignment statement creates 4 new references to the same set *essentials*. \n",
    "The 4 add statements all added items to the same set through its aliases.\n",
    "\n",
    "Here again, to create a shallow copy, we use the set *copy* method."
   ],
   "metadata": {
    "id": "t6yMKQBWV1iU"
   }
  },
  {
   "cell_type": "code",
   "source": [
    "for each_friend in friends:\n",
    "  groceries[each_friend] = essentials.copy() # Make a shallow copy of the set"
   ],
   "metadata": {
    "collapsed": false,
    "trusted": true
   },
   "outputs": [],
   "execution_count": null
  },
  {
   "cell_type": "markdown",
   "source": [
    "# Voting Example"
   ],
   "metadata": {
    "collapsed": false
   }
  },
  {
   "cell_type": "markdown",
   "source": [
    "This is another example relevant to one of our programming assignments. "
   ],
   "metadata": {
    "collapsed": false
   }
  },
  {
   "cell_type": "code",
   "source": [
    "class Student:\n",
    "\n",
    "    \"\"\"\n",
    "    Represent a student.\n",
    "\n",
    "    Argument:\n",
    "    name (string): student name\n",
    "    vote (string): student's vote\n",
    "\n",
    "    Attributes:\n",
    "    name (string): student name\n",
    "    vote (string): student's vote\n",
    "    \"\"\"\n",
    "\n",
    "    def __init__(self, name, vote):\n",
    "        self.name = name\n",
    "        self.vote = vote"
   ],
   "metadata": {
    "collapsed": false,
    "trusted": true
   },
   "outputs": [],
   "execution_count": null
  },
  {
   "cell_type": "markdown",
   "source": [
    "We use the Student class to represent students.  Students get to vote on their favorite drink.  "
   ],
   "metadata": {
    "collapsed": false
   }
  },
  {
   "cell_type": "code",
   "source": [
    "cs156 = [] # initialize empty list for CS 156 students\n",
    "cs156.append(Student(\"Anna\", \"coffee\")) # add Anna\n",
    "cs156.append(Student(\"Bryan\", \"water\")) # add Bryan\n",
    "cs156.append(Student(\"Cathy\", \"boba\"))\n",
    "cs156.append(Student(\"David\", \"coffee\"))\n",
    "cs156.append(Student(\"Zoe\", \"tea\"))\n",
    "cs156.append(Student(\"Ryan\", \"boba\"))\n",
    "cs156.append(Student(\"Bella\", \"boba\"))\n",
    "cs156.append(Student(\"Alex\", \"tea\"))"
   ],
   "metadata": {
    "collapsed": false,
    "trusted": true
   },
   "outputs": [],
   "execution_count": null
  },
  {
   "cell_type": "markdown",
   "source": [
    "Note that cs156 is a list of Student objects."
   ],
   "metadata": {
    "collapsed": false
   }
  },
  {
   "cell_type": "code",
   "source": [
    "print(cs156)"
   ],
   "metadata": {
    "collapsed": false,
    "trusted": true
   },
   "outputs": [],
   "execution_count": null
  },
  {
   "cell_type": "markdown",
   "source": [
    "Now we need to determine what the favorite drink of the class as a whole is.\n",
    "To do that, we use a list comprehension to create a list of all the favorite drinks."
   ],
   "metadata": {
    "collapsed": false
   }
  },
  {
   "cell_type": "code",
   "source": [
    "votes = [student.vote for student in cs156] # list comprehension\n",
    "print(votes)"
   ],
   "metadata": {
    "id": "6Cu4dJLGS0Dt",
    "trusted": true
   },
   "outputs": [],
   "execution_count": null
  },
  {
   "cell_type": "markdown",
   "source": [
    " Then we pick the most popular drink as the drink with the highest count in that list."
   ],
   "metadata": {
    "id": "tWEHBa42WaZG"
   }
  },
  {
   "cell_type": "code",
   "source": [
    "winner = max(votes, key=lambda v: votes.count(v))\n",
    "print(winner)"
   ],
   "metadata": {
    "id": "MjaHz9ARWfMa",
    "trusted": true
   },
   "outputs": [],
   "execution_count": null
  },
  {
   "cell_type": "markdown",
   "source": [
    "TO DO:  In the code cell below, find and print the least popular drink.  Make sure you use a Python built-in function with a key that is a lambda function. ."
   ],
   "metadata": {
    "collapsed": false
   }
  },
  {
   "cell_type": "code",
   "source": [
    "# TO DO: Enter your code below\n",
    "least_popular = ..."
   ],
   "metadata": {
    "collapsed": false,
    "trusted": true
   },
   "outputs": [],
   "execution_count": null
  }
 ]
}
